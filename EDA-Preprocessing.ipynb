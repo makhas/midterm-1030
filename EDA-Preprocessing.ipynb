{
 "cells": [
  {
   "cell_type": "code",
   "execution_count": 1,
   "id": "9ad9f578",
   "metadata": {},
   "outputs": [],
   "source": [
    "import pandas as pd\n",
    "import numpy as np\n",
    "import matplotlib\n",
    "from matplotlib import pylab as plt\n",
    "import math\n",
    "\n",
    "filepath = 'data/heart.csv'\n",
    "df = pd.read_csv(filepath)"
   ]
  },
  {
   "cell_type": "markdown",
   "id": "662d25f6",
   "metadata": {},
   "source": [
    "# Introduction\n",
    "This project explores the machine learning pipeline by working on [Heart Failure Data](https://www.kaggle.com/fedesoriano/heart-failure-prediction), found on Kaggle. The target variable we classify is HeartDisease, a binary datatype where 1 indicates the person has Heart Disease, and 0 (normal) otherwise. Heart disease is the leading cause of death in the world, and machine learning models that can predict which persons are at a high risk for heart disease early can help spur action to increase the likelihood of positive health outcomes for those users, in addition to encouraging persons who might not be at risk currently to make cautionary lifestyle changes. This dataset comprises 918 persons, recording 12 observations each. This datset is already described as follows (the annotation (CTS) means that attribute is continuous, while (CAT) indicates the attribute is categorical, and (ORD) indicates ordinal attribute):\n",
    "\n",
    "Age: age of the patient (years) (CTS)\n",
    "\n",
    "Sex: sex of the patient (M: Male, F: Female) (CAT)\n",
    "\n",
    "ChestPainType: chest pain type (TA: Typical Angina, ATA: Atypical Angina, NAP: Non-Anginal Pain, ASY: Asymptomatic)\n",
    "\n",
    "RestingBP: resting blood pressure (mm Hg)\n",
    "\n",
    "Cholesterol: serum cholesterol (mm/dl)\n",
    "\n",
    "FastingBS: fasting blood sugar (1: if FastingBS > 120 mg/dl, 0: otherwise)\n",
    "\n",
    "RestingECG: resting electrocardiogram results (Normal: Normal, ST: having ST-T wave abnormality (T wave inversions and/or ST elevation or depression of > 0.05 mV), LVH: showing probable or definite left ventricular hypertrophy by Estes' criteria)\n",
    "\n",
    "MaxHR: maximum heart rate achieved (Numeric value between 60 and 202)\n",
    "\n",
    "ExerciseAngina: exercise-induced angina (Y: Yes, N: No)\n",
    "\n",
    "Oldpeak: oldpeak = ST (Numeric value measured in depression)\n",
    "\n",
    "ST_Slope: the slope of the peak exercise ST segment (Up: upsloping, Flat: flat, Down: downsloping)\n",
    "\n",
    "HeartDisease: output class (1: heart disease, 0: Normal)\n",
    "\n",
    "\n"
   ]
  },
  {
   "cell_type": "code",
   "execution_count": 2,
   "id": "75a757d2",
   "metadata": {},
   "outputs": [
    {
     "name": "stdout",
     "output_type": "stream",
     "text": [
      "Rows: 918\n",
      "Columns: 12\n",
      "dtype of Age is: int64\n",
      "dtype of Sex is: object\n",
      "dtype of ChestPainType is: object\n",
      "dtype of RestingBP is: int64\n",
      "dtype of Cholesterol is: int64\n",
      "dtype of FastingBS is: int64\n",
      "dtype of RestingECG is: object\n",
      "dtype of MaxHR is: int64\n",
      "dtype of ExerciseAngina is: object\n",
      "dtype of Oldpeak is: float64\n",
      "dtype of ST_Slope is: object\n",
      "dtype of HeartDisease is: int64\n"
     ]
    }
   ],
   "source": [
    "print(\"Rows: \"+ str(df.shape[0]))\n",
    "print(\"Columns: \"+ str(df.shape[1]))\n",
    "cols = list(df.columns)\n",
    "for col in cols:\n",
    "    df1 = df[col].dropna()\n",
    "    print(f\"dtype of {col} is: {df1.dtype}\")"
   ]
  },
  {
   "cell_type": "code",
   "execution_count": 4,
   "id": "5a6ae785",
   "metadata": {},
   "outputs": [
    {
     "data": {
      "text/plain": [
       "2"
      ]
     },
     "execution_count": 4,
     "metadata": {},
     "output_type": "execute_result"
    }
   ],
   "source": [
    "y = df[\"HeartDisease\"]\n",
    "y.nunique()"
   ]
  },
  {
   "cell_type": "code",
   "execution_count": null,
   "id": "be75e2d6",
   "metadata": {},
   "outputs": [],
   "source": []
  },
  {
   "cell_type": "markdown",
   "id": "eadb889a",
   "metadata": {},
   "source": [
    "### References\n",
    "fedesoriano. (September 2021). Heart Failure Prediction Dataset. Retrieved 6 October 2021 from https://www.kaggle.com/fedesoriano/heart-failure-prediction."
   ]
  },
  {
   "cell_type": "code",
   "execution_count": null,
   "id": "99454cd1",
   "metadata": {},
   "outputs": [],
   "source": []
  }
 ],
 "metadata": {
  "kernelspec": {
   "display_name": "Python 3 (ipykernel)",
   "language": "python",
   "name": "python3"
  },
  "language_info": {
   "codemirror_mode": {
    "name": "ipython",
    "version": 3
   },
   "file_extension": ".py",
   "mimetype": "text/x-python",
   "name": "python",
   "nbconvert_exporter": "python",
   "pygments_lexer": "ipython3",
   "version": "3.9.7"
  }
 },
 "nbformat": 4,
 "nbformat_minor": 5
}
